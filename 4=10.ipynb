{
 "cells": [
  {
   "cell_type": "code",
   "execution_count": 66,
   "metadata": {},
   "outputs": [],
   "source": [
    "from itertools import permutations, combinations, product, chain"
   ]
  },
  {
   "cell_type": "code",
   "execution_count": 68,
   "metadata": {},
   "outputs": [],
   "source": [
    "def solver(num, operator):\n",
    "    res = []\n",
    "    num_arr = num.split()\n",
    "    possible_num = list(set(permutations(num_arr, len(num_arr))))\n",
    "\n",
    "    brace_temp = list(combinations(range(len(num_arr)+1), 2))\n",
    "    possible_brace = []\n",
    "    for b in brace_temp:\n",
    "        if b[1]-b[0] > 1 and not (b[0] == 0 and b[1] == len(num_arr)):\n",
    "            possible_brace.append(b)\n",
    "    \n",
    "    possible_operator = list(product(operator, repeat=len(num_arr)-1))\n",
    "\n",
    "    for n in possible_num:\n",
    "        for o in possible_operator:\n",
    "            arr_eval = list(chain(*zip(n, (*o, \"\"))))\n",
    "            str_eval = \"\".join(arr_eval)\n",
    "            try:\n",
    "                if abs(eval(str_eval) - 10) < 0.001:\n",
    "                    res.append(str_eval)\n",
    "            except ZeroDivisionError:\n",
    "                pass\n",
    "\n",
    "            for b in possible_brace:\n",
    "                arr_eval = list(chain(*zip(n, (*o, \"\"))))\n",
    "                arr_eval = arr_eval[0:2*b[0]] + [\"(\"] + arr_eval[2*b[0]:2*b[1]-1] + [\")\"] + arr_eval[2*b[1]-1:-1]\n",
    "                str_eval = \"\".join(arr_eval)\n",
    "                try:\n",
    "                    if abs(eval(str_eval) - 10) < 0.001:\n",
    "                        res.append(str_eval)\n",
    "                except ZeroDivisionError:\n",
    "                    pass\n",
    "    return res"
   ]
  },
  {
   "cell_type": "code",
   "execution_count": 70,
   "metadata": {},
   "outputs": [
    {
     "name": "stdout",
     "output_type": "stream",
     "text": [
      "3*(7/3+1)\n",
      "3*(1+7/3)\n",
      "(1+7/3)*3\n",
      "(7/3+1)*3\n"
     ]
    }
   ],
   "source": [
    "num1 = \"3 3 7 1\"\n",
    "res1 = solver(num1, [\"+\", \"-\", \"*\", \"/\"])\n",
    "for r in res1:\n",
    "    print(r)"
   ]
  }
 ],
 "metadata": {
  "kernelspec": {
   "display_name": "Python 3.9.0 64-bit",
   "language": "python",
   "name": "python3"
  },
  "language_info": {
   "codemirror_mode": {
    "name": "ipython",
    "version": 3
   },
   "file_extension": ".py",
   "mimetype": "text/x-python",
   "name": "python",
   "nbconvert_exporter": "python",
   "pygments_lexer": "ipython3",
   "version": "3.9.0"
  },
  "orig_nbformat": 4,
  "vscode": {
   "interpreter": {
    "hash": "80d47bfaf40e8361c87cad9eebeb013d8219e3e5404ed94704fd097ed7b01c79"
   }
  }
 },
 "nbformat": 4,
 "nbformat_minor": 2
}
