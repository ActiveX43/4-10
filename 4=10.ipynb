{
 "cells": [
  {
   "cell_type": "code",
   "execution_count": 36,
   "metadata": {},
   "outputs": [],
   "source": [
    "from itertools import permutations, combinations, product, chain\n",
    "from collections import deque\n",
    "import re"
   ]
  },
  {
   "cell_type": "code",
   "execution_count": 61,
   "metadata": {},
   "outputs": [],
   "source": [
    "def solver(num, operator):\n",
    "    res = []\n",
    "    num_arr = num.split()\n",
    "    possible_num = list(set(permutations(num_arr, len(num_arr))))\n",
    "\n",
    "    brace_temp = list(combinations(range(len(num_arr)+1), 2))\n",
    "    possible_brace = []\n",
    "    for b in brace_temp:\n",
    "        if b[1]-b[0] > 1 and not (b[0] == 0 and b[1] == len(num_arr)):\n",
    "            possible_brace.append(b)\n",
    "    \n",
    "    possible_operator = list(product(operator, repeat=len(num_arr)-1))\n",
    "\n",
    "    print(possible_brace, possible_operator)\n",
    "    for n in possible_num:\n",
    "        for o in possible_operator:\n",
    "            arr_eval = list(chain(*zip(n, (*o, \"\"))))\n",
    "            str_eval = \"\".join(arr_eval)\n",
    "            try:\n",
    "                if abs(eval(str_eval) - 10) < 0.001:\n",
    "                    res.append(str_eval)\n",
    "            except ZeroDivisionError:\n",
    "                pass\n",
    "\n",
    "            for b in possible_brace:\n",
    "                arr_eval = list(chain(*zip(n, (*o, \"\"))))\n",
    "                arr_eval = arr_eval[0:2*b[0]] + [\"(\"] + arr_eval[2*b[0]:2*b[1]-1] + [\")\"] + arr_eval[2*b[1]-1:-1]\n",
    "                str_eval = \"\".join(arr_eval)\n",
    "                try:\n",
    "                    if abs(eval(str_eval) - 10) < 0.001:\n",
    "                        res.append(str_eval)\n",
    "                except ZeroDivisionError:\n",
    "                    pass\n",
    "    return res"
   ]
  },
  {
   "cell_type": "code",
   "execution_count": 60,
   "metadata": {},
   "outputs": [
    {
     "name": "stdout",
     "output_type": "stream",
     "text": [
      "[(0, 2), (0, 3), (1, 3), (1, 4), (2, 4)] [('+', '+', '+'), ('+', '+', '-'), ('+', '-', '+'), ('+', '-', '-'), ('-', '+', '+'), ('-', '+', '-'), ('-', '-', '+'), ('-', '-', '-')]\n",
      "2-3+9+2\n",
      "(2-3)+9+2\n",
      "(2-3+9)+2\n",
      "2-3+(9+2)\n",
      "2-(3-9)+2\n",
      "2-(3-9-2)\n",
      "2+2-3+9\n",
      "(2+2)-3+9\n",
      "(2+2-3)+9\n",
      "2+(2-3)+9\n",
      "2+(2-3+9)\n",
      "2+2-(3-9)\n",
      "2+2+9-3\n",
      "(2+2)+9-3\n",
      "(2+2+9)-3\n",
      "2+(2+9)-3\n",
      "2+(2+9-3)\n",
      "2+2+(9-3)\n",
      "9+2-3+2\n",
      "(9+2)-3+2\n",
      "(9+2-3)+2\n",
      "9+(2-3)+2\n",
      "9+(2-3+2)\n",
      "9+2-(3-2)\n",
      "9+2+2-3\n",
      "(9+2)+2-3\n",
      "(9+2+2)-3\n",
      "9+(2+2)-3\n",
      "9+(2+2-3)\n",
      "9+2+(2-3)\n",
      "2-3+2+9\n",
      "(2-3)+2+9\n",
      "(2-3+2)+9\n",
      "2-3+(2+9)\n",
      "2-(3-2)+9\n",
      "2-(3-2-9)\n",
      "9-3+2+2\n",
      "(9-3)+2+2\n",
      "(9-3+2)+2\n",
      "9-3+(2+2)\n",
      "9-(3-2)+2\n",
      "9-(3-2-2)\n",
      "2+9+2-3\n",
      "(2+9)+2-3\n",
      "(2+9+2)-3\n",
      "2+(9+2)-3\n",
      "2+(9+2-3)\n",
      "2+9+(2-3)\n",
      "2+9-3+2\n",
      "(2+9)-3+2\n",
      "(2+9-3)+2\n",
      "2+(9-3)+2\n",
      "2+(9-3+2)\n",
      "2+9-(3-2)\n"
     ]
    }
   ],
   "source": [
    "num1 = \"0 1 6 3\"\n",
    "num2 = \"3 2 9 2\"\n",
    "res1 = solver(num1, [\"+\", \"-\", \"*\", \"/\"])"
   ]
  }
 ],
 "metadata": {
  "kernelspec": {
   "display_name": "Python 3.9.0 64-bit",
   "language": "python",
   "name": "python3"
  },
  "language_info": {
   "codemirror_mode": {
    "name": "ipython",
    "version": 3
   },
   "file_extension": ".py",
   "mimetype": "text/x-python",
   "name": "python",
   "nbconvert_exporter": "python",
   "pygments_lexer": "ipython3",
   "version": "3.9.0"
  },
  "orig_nbformat": 4,
  "vscode": {
   "interpreter": {
    "hash": "80d47bfaf40e8361c87cad9eebeb013d8219e3e5404ed94704fd097ed7b01c79"
   }
  }
 },
 "nbformat": 4,
 "nbformat_minor": 2
}
